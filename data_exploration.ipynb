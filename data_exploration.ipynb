{
 "cells": [
  {
   "cell_type": "markdown",
   "metadata": {},
   "source": [
    "# Data Exploration"
   ]
  },
  {
   "cell_type": "code",
   "execution_count": null,
   "metadata": {},
   "outputs": [],
   "source": [
    "from utils.label_vis import *\n",
    "import numpy as np\n",
    "\n",
    "# for auto-reloading external modules\n",
    "# see http://stackoverflow.com/questions/1907993/autoreload-of-modules-in-ipython\n",
    "%load_ext autoreload\n",
    "%autoreload 2"
   ]
  },
  {
   "cell_type": "code",
   "execution_count": null,
   "metadata": {},
   "outputs": [],
   "source": [
    "max_min_x, max_min_y = -10, -10\n",
    "min_max_x, min_max_y = 10, 10\n",
    "for i in range(1,10):\n",
    "  filename = f'data/real/labels/{i:>02}.csv'\n",
    "  labels = get_labels(filename)\n",
    "  show_labels_hist(labels, filename)\n",
    "  min_x, min_y, max_x, max_y = show_labels_hist(np.tan(labels), 'tan of ' + filename, x_label='tan(gaze_x)', y_label='y_label')\n",
    "  max_min_x, max_min_y = max(max_min_x, min_x), max(max_min_y, min_y)\n",
    "  min_max_x, min_max_y = min(min_max_x, max_x), min(min_max_y, max_y)\n",
    "print('Minimum bounds:', max_min_x, max_min_y, min_max_x, min_max_y)\n"
   ]
  }
 ],
 "metadata": {
  "kernelspec": {
   "display_name": "base",
   "language": "python",
   "name": "python3"
  },
  "language_info": {
   "codemirror_mode": {
    "name": "ipython",
    "version": 3
   },
   "file_extension": ".py",
   "mimetype": "text/x-python",
   "name": "python",
   "nbconvert_exporter": "python",
   "pygments_lexer": "ipython3",
   "version": "3.9.7"
  }
 },
 "nbformat": 4,
 "nbformat_minor": 2
}
