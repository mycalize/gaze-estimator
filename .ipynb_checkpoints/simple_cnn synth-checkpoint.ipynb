{
 "cells": [
  {
   "cell_type": "markdown",
   "metadata": {},
   "source": [
    "# Training a Simple CNN"
   ]
  },
  {
   "cell_type": "code",
   "execution_count": 7,
   "metadata": {},
   "outputs": [
    {
     "name": "stdout",
     "output_type": "stream",
     "text": [
      "The autoreload extension is already loaded. To reload it, use:\n",
      "  %reload_ext autoreload\n"
     ]
    }
   ],
   "source": [
    "import numpy as np\n",
    "import torch.nn as nn\n",
    "import torch.optim as optim\n",
    "from torch.utils.data import DataLoader\n",
    "from torch.utils.data import random_split\n",
    "from data.image_dataset_synth import ImageDataset\n",
    "from training.cnn import ConvNet\n",
    "from training.train import *\n",
    "from training.eval import *\n",
    "from data.convert_labels import *\n",
    "import matplotlib.pyplot as plt\n",
    "\n",
    "# for auto-reloading external modules\n",
    "# see http://stackoverflow.com/questions/1907993/autoreload-of-modules-in-ipython\n",
    "%load_ext autoreload\n",
    "%autoreload 2"
   ]
  },
  {
   "cell_type": "code",
   "execution_count": 8,
   "metadata": {},
   "outputs": [],
   "source": [
    "# Create ImageDataset\n",
    "train_annotations_file_path = 'data/synthetic/04.2/train/04.2.csv'\n",
    "train_dir_path = 'data/synthetic/04.2/train'\n",
    "test_annotations_file_path = 'data/synthetic/04.2/test/04.2.csv'\n",
    "test_dir_path = 'data/synthetic/04.2/test'\n",
    "\n",
    "# Can override arguments specifying class boundaries\n",
    "target_transform = lambda target: convert_labels(target)\n",
    "\n",
    "train_val_dataset = ImageDataset(\n",
    "  annotations_file=train_annotations_file_path,\n",
    "  img_dir=train_dir_path,\n",
    "  transform=None,\n",
    "  target_transform=target_transform\n",
    ")\n",
    "\n",
    "test_dataset = ImageDataset(\n",
    "  annotations_file=test_annotations_file_path,\n",
    "  img_dir=test_dir_path,\n",
    "  transform=None,\n",
    "  target_transform=target_transform\n",
    ")\n",
    "\n",
    "generator = torch.Generator().manual_seed(0)\n",
    "train_dataset, val_dataset = random_split(train_val_dataset, [0.9, 0.1], generator=generator)"
   ]
  },
  {
   "cell_type": "code",
   "execution_count": 10,
   "metadata": {},
   "outputs": [
    {
     "name": "stdout",
     "output_type": "stream",
     "text": [
      "Feature batch shape: torch.Size([50, 1, 120, 160])\n",
      "Labels batch shape: torch.Size([50])\n",
      "[ 4  5  6  7  9 10 11]\n"
     ]
    }
   ],
   "source": [
    "# Create Dataloader\n",
    "train_loader = DataLoader(train_dataset, batch_size=50, shuffle=True)\n",
    "val_loader = DataLoader(val_dataset, batch_size=64, shuffle=True)\n",
    "test_loader = DataLoader(test_dataset, batch_size=64, shuffle=True)\n",
    "\n",
    "\n",
    "train_features, train_labels = next(iter(train_loader))\n",
    "print(f\"Feature batch shape: {train_features.size()}\")\n",
    "print(f\"Labels batch shape: {train_labels.size()}\")\n",
    "print(np.unique(train_labels))"
   ]
  },
  {
   "cell_type": "code",
   "execution_count": null,
   "metadata": {},
   "outputs": [],
   "source": [
    "model = ConvNet(input_dims=(160, 120))\n",
    "criterion = nn.CrossEntropyLoss()\n",
    "optimizer = optim.Adam(model.parameters(), lr=1e-3)\n",
    "\n",
    "results = train(model, criterion, optimizer, train_loader, epochs=10)"
   ]
  },
  {
   "cell_type": "code",
   "execution_count": null,
   "metadata": {},
   "outputs": [],
   "source": [
    "iter_train_loss_list, train_acc_list = results\n",
    "plt.plot(iter_train_loss_list)\n",
    "plt.xlabel('Iteration number')\n",
    "plt.ylabel('Loss value')\n",
    "plt.title('Loss history')\n",
    "plt.show()\n",
    "\n",
    "plt.plot(train_acc_list)\n",
    "plt.xlabel('Epoch number')\n",
    "plt.ylabel('Accuracy')\n",
    "plt.title('Training Accuracy')\n",
    "plt.show()"
   ]
  },
  {
   "cell_type": "code",
   "execution_count": null,
   "metadata": {},
   "outputs": [],
   "source": [
    "test_acc = evaluate_acc(model, test_loader)\n",
    "print(f\"Test accuracy: {test_acc}\")"
   ]
  },
  {
   "cell_type": "code",
   "execution_count": null,
   "metadata": {},
   "outputs": [],
   "source": []
  }
 ],
 "metadata": {
  "kernelspec": {
   "display_name": "Python 3 (ipykernel)",
   "language": "python",
   "name": "python3"
  },
  "language_info": {
   "codemirror_mode": {
    "name": "ipython",
    "version": 3
   },
   "file_extension": ".py",
   "mimetype": "text/x-python",
   "name": "python",
   "nbconvert_exporter": "python",
   "pygments_lexer": "ipython3",
   "version": "3.13.1"
  }
 },
 "nbformat": 4,
 "nbformat_minor": 4
}
