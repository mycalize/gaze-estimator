{
 "cells": [
  {
   "cell_type": "code",
   "execution_count": 1,
   "id": "54f6f731-80dd-4ca4-aa0f-2a244a557cec",
   "metadata": {},
   "outputs": [],
   "source": [
    "import torch\n",
    "import torch.optim as optim\n",
    "import torch.nn as nn\n",
    "from torchvision import transforms\n",
    "import os\n",
    "import time\n",
    "\n",
    "from torch.utils.data import DataLoader\n",
    "from data.image_dataset_rgb import ImageDataset\n",
    "from models.vit import VisionTransformerModel\n",
    "from training_vit.train import train\n",
    "from training_vit.eval import evaluate_acc, evaluate_error\n",
    "from utils.dataset_utils import check_disjoint\n",
    "import matplotlib.pyplot as plt\n",
    "from datetime import datetime\n",
    "\n",
    "\n",
    "# for auto-reloading external modules\n",
    "# see http://stackoverflow.com/questions/1907993/autoreload-of-modules-in-ipython\n",
    "%load_ext autoreload\n",
    "%autoreload 2"
   ]
  },
  {
   "cell_type": "code",
   "execution_count": 2,
   "id": "7a99ed35-6fa8-40d2-b00a-b9ac87fa8ac4",
   "metadata": {},
   "outputs": [],
   "source": [
    "# Configuration\n",
    "subject = 1\n",
    "stride = 5\n",
    "input_dims = (127, 127)\n",
    "mode = 'reg'  # Choose between 'reg' (regression) and classification\n",
    "batch_size = 64\n",
    "epochs = 200\n",
    "lr = 1e-4"
   ]
  },
  {
   "cell_type": "code",
   "execution_count": 3,
   "id": "ab4771b4-ad65-49be-ade3-8e1a3f91766c",
   "metadata": {},
   "outputs": [
    {
     "name": "stdout",
     "output_type": "stream",
     "text": [
      "01_05_127_127\n"
     ]
    }
   ],
   "source": [
    "data_subset = f'{subject:>02}_{stride:>02}_{input_dims[0]}_{input_dims[1]}'\n",
    "print(data_subset)\n",
    "train_dir_path = f'data/real/{data_subset}/train'\n",
    "train_annotations_file_path = f'{train_dir_path}/{data_subset}_train.csv'\n",
    "val_dir_path = f'data/real/{data_subset}/val'\n",
    "val_annotations_file_path = f'{val_dir_path}/{data_subset}_val.csv'\n",
    "test_dir_path = f'data/real/{data_subset}/test'\n",
    "test_annotations_file_path = f'{test_dir_path}/{data_subset}_test.csv'\n",
    "\n",
    "transform = transforms.Compose([\n",
    "    transforms.Resize((224, 224)),  # Resize for ViT input\n",
    "])\n",
    "\n",
    "train_dataset = ImageDataset(\n",
    "    annotations_file=train_annotations_file_path, \n",
    "    img_dir=train_dir_path, \n",
    "    transform=transform)\n",
    "val_dataset = ImageDataset(\n",
    "    annotations_file=val_annotations_file_path, \n",
    "    img_dir=val_dir_path, \n",
    "    transform=transform)\n",
    "test_dataset = ImageDataset(\n",
    "    annotations_file=test_annotations_file_path, \n",
    "    img_dir=test_dir_path, \n",
    "    transform=transform)\n",
    "\n",
    "assert(check_disjoint(val_dataset, test_dataset))"
   ]
  },
  {
   "cell_type": "code",
   "execution_count": 5,
   "id": "ee6d0e29-716c-4837-b696-20bd3440224b",
   "metadata": {},
   "outputs": [
    {
     "name": "stdout",
     "output_type": "stream",
     "text": [
      "Feature batch shape: torch.Size([64, 3, 224, 224])\n",
      "Label batch shape: torch.Size([64, 2])\n"
     ]
    }
   ],
   "source": [
    "\n",
    "\n",
    "train_loader = DataLoader(train_dataset, batch_size=batch_size, shuffle=True)\n",
    "val_loader = DataLoader(val_dataset, batch_size=batch_size, shuffle=True)\n",
    "test_loader = DataLoader(test_dataset, batch_size=batch_size, shuffle=True)\n",
    "\n",
    "train_features, train_labels = next(iter(train_loader))\n",
    "print(f\"Feature batch shape: {train_features.size()}\")\n",
    "print(f\"Label batch shape: {train_labels.size()}\")"
   ]
  },
  {
   "cell_type": "code",
   "execution_count": null,
   "id": "521570b3-d369-4219-aab9-ddfcc1eb2557",
   "metadata": {},
   "outputs": [
    {
     "name": "stdout",
     "output_type": "stream",
     "text": [
      "Using device: cpu\n",
      "hi\n",
      "yayyy\n",
      "batch_X\n",
      "batch_X\n",
      "batch_X\n",
      "batch_X\n",
      "batch_X\n",
      "batch_X\n",
      "batch_X\n"
     ]
    }
   ],
   "source": [
    "# Model setup\n",
    "num_classes = 2 if mode == 'reg' else 16\n",
    "model = VisionTransformerModel(num_classes=num_classes)\n",
    "\n",
    "criterion = nn.MSELoss() if mode == 'reg' else nn.CrossEntropyLoss()\n",
    "optimizer = optim.Adam(model.parameters(), lr=lr)\n",
    "\n",
    "device = torch.device(\"cuda\" if torch.cuda.is_available() else \"cpu\")\n",
    "model = model.to(device)\n",
    "print(f'Using device: {device}')\n",
    "\n",
    "# Train model\n",
    "loss_history, train_perf_history, val_perf_history = train(model, device, mode, criterion, optimizer, train_loader, val_loader, epochs)"
   ]
  },
  {
   "cell_type": "code",
   "execution_count": null,
   "id": "9ca63968-e979-4f0b-9df4-adef9759d7ba",
   "metadata": {},
   "outputs": [],
   "source": [
    "# Plot training loss\n",
    "plt.plot(loss_history, label='Loss')\n",
    "plt.xlabel('Epochs')\n",
    "plt.ylabel('Loss')\n",
    "plt.legend()\n",
    "plt.show()"
   ]
  },
  {
   "cell_type": "code",
   "execution_count": null,
   "id": "6d4e1739-6feb-4748-bcf2-27a7ac2119c8",
   "metadata": {},
   "outputs": [],
   "source": [
    "# Evaluate model\n",
    "if mode == 'reg':\n",
    "    test_error = evaluate_error(model, device, test_loader)\n",
    "    print(f'Test error: {test_error}')\n",
    "else:\n",
    "    test_acc = evaluate_acc(model, device, test_loader)\n",
    "    print(f'Test accuracy: {test_acc}')\n",
    "\n",
    "# Save model\n",
    "time_stamp = datetime.fromtimestamp(time.time()).strftime('%m-%d--%H-%M-%S')\n",
    "save_dir = f'models/saved_models/{time_stamp}'\n",
    "os.makedirs(save_dir, exist_ok=True)\n",
    "torch.save(model.state_dict(), f'{save_dir}/model.pt')"
   ]
  }
 ],
 "metadata": {
  "kernelspec": {
   "display_name": "Python 3 (ipykernel)",
   "language": "python",
   "name": "python3"
  },
  "language_info": {
   "codemirror_mode": {
    "name": "ipython",
    "version": 3
   },
   "file_extension": ".py",
   "mimetype": "text/x-python",
   "name": "python",
   "nbconvert_exporter": "python",
   "pygments_lexer": "ipython3",
   "version": "3.13.0"
  }
 },
 "nbformat": 4,
 "nbformat_minor": 5
}
