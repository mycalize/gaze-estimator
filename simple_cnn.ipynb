{
  "cells": [
    {
      "cell_type": "markdown",
      "metadata": {},
      "source": [
        "# Training a Simple CNN"
      ]
    },
    {
      "cell_type": "code",
      "execution_count": null,
      "metadata": {},
      "outputs": [],
      "source": [
        "import numpy as np\n",
        "import torch\n",
        "import torch.nn as nn\n",
        "import torch.optim as optim\n",
        "from torch.utils.data import DataLoader\n",
        "from data.image_dataset import ImageDataset\n",
        "from models.cnn import CNN\n",
        "from models.nvgaze import NVGaze\n",
        "from training.train import *\n",
        "from training.eval import *\n",
        "from data.convert_labels import *\n",
        "import matplotlib.pyplot as plt\n",
        "import time\n",
        "from datetime import datetime\n",
        "\n",
        "# for auto-reloading external modules\n",
        "# see http://stackoverflow.com/questions/1907993/autoreload-of-modules-in-ipython\n",
        "%load_ext autoreload\n",
        "%autoreload 2"
      ]
    },
    {
      "cell_type": "code",
      "execution_count": null,
      "metadata": {},
      "outputs": [],
      "source": [
        "data_subset = '01_05_160_120_no_crop'\n",
        "mode = 'reg'"
      ]
    },
    {
      "cell_type": "code",
      "execution_count": null,
      "metadata": {},
      "outputs": [],
      "source": [
        "train_dir_path = f'data/real/{data_subset}/train'\n",
        "train_annotations_file_path = f'{train_dir_path}/{data_subset}_train.csv'\n",
        "val_dir_path = f'data/real/{data_subset}/val'\n",
        "val_annotations_file_path = f'{val_dir_path}/{data_subset}_val.csv'\n",
        "test_dir_path = f'data/real/{data_subset}/test'\n",
        "test_annotations_file_path = f'{test_dir_path}/{data_subset}_test.csv'\n",
        "\n",
        "target_transform = None if mode == 'reg' else (lambda target: convert_labels(target))\n",
        "\n",
        "train_dataset = ImageDataset(\n",
        "  annotations_file=train_annotations_file_path,\n",
        "  img_dir=train_dir_path,\n",
        "  transform=None,\n",
        "  target_transform=target_transform\n",
        ")\n",
        "val_dataset = ImageDataset(\n",
        "  annotations_file=val_annotations_file_path,\n",
        "  img_dir=val_dir_path,\n",
        "  transform=None,\n",
        "  target_transform=target_transform\n",
        ")\n",
        "test_dataset = ImageDataset(\n",
        "  annotations_file=test_annotations_file_path,\n",
        "  img_dir=test_dir_path,\n",
        "  transform=None,\n",
        "  target_transform=target_transform\n",
        ")"
      ]
    },
    {
      "cell_type": "code",
      "execution_count": null,
      "metadata": {},
      "outputs": [],
      "source": [
        "# Create Dataloader\n",
        "train_loader = DataLoader(train_dataset, batch_size=64, shuffle=True)\n",
        "val_loader = DataLoader(val_dataset, batch_size=64, shuffle=True)\n",
        "test_loader = DataLoader(test_dataset, batch_size=64, shuffle=True)\n",
        "\n",
        "train_features, train_labels = next(iter(train_loader))\n",
        "print(f\"Feature batch shape: {train_features.size()}\")\n",
        "print(f\"Label batch shape: {train_labels.size()}\")"
      ]
    },
    {
      "cell_type": "code",
      "execution_count": null,
      "metadata": {},
      "outputs": [],
      "source": [
        "# model = CNN(input_dims=(160, 120))\n",
        "out_num_features = 2 if mode == 'reg' else 16\n",
        "model = NVGaze(input_dims=(160, 120), out_num_features=out_num_features)\n",
        "criterion = nn.MSELoss() if mode == 'reg' else nn.CrossEntropyLoss()\n",
        "# optimizer = optim.SGD(model.parameters(), lr=1e-4, momentum=0.99, weight_decay=0.1, nesterov=True)\n",
        "optimizer = optim.Adam(model.parameters(), lr=1e-4)\n",
        "\n",
        "# Set-up GPU device (if available) and move model\n",
        "device = torch.device('mps' if torch.mps.is_available() else 'cpu')\n",
        "model = model.to(device)\n",
        "print(f'Using device: {device}')\n",
        "\n",
        "results = train(model, device, mode, criterion, optimizer, train_loader, val_loader, epochs=200)"
      ]
    },
    {
      "cell_type": "code",
      "execution_count": null,
      "metadata": {},
      "outputs": [],
      "source": [
        "loss_history, train_perf_history, val_perf_history = results\n",
        "plt.subplot(2, 1, 1)\n",
        "plt.plot(loss_history, 'o')\n",
        "plt.xlabel('Iteration')\n",
        "plt.ylabel('Loss')\n",
        "\n",
        "plt.subplot(2, 1, 2)\n",
        "plt.plot(train_perf_history, '-o')\n",
        "plt.plot(val_perf_history, '-o')\n",
        "plt.legend(['Train', 'Val'], loc='upper right')\n",
        "plt.xlabel('Epoch')\n",
        "plt.ylabel('Error' if mode == 'reg' else 'Accuracy')\n",
        "\n",
        "plt.subplots_adjust(hspace=0.5)\n",
        "plt.show()"
      ]
    },
    {
      "cell_type": "code",
      "execution_count": null,
      "metadata": {},
      "outputs": [],
      "source": [
        "if mode == 'reg':\n",
        "  train_error = evaluate_error(model, device, train_loader)\n",
        "  val_error = evaluate_error(model, device, val_loader)\n",
        "  test_error = evaluate_error(model, device, test_loader)\n",
        "  print(f'Train / Val / Test error: {train_error.item():.6f} / {val_error.item():.6f} / {test_error.item():.6f}', end=' ')\n",
        "  print(f'({np.rad2deg(train_error.item()):.2f} / {np.rad2deg(val_error.item()):.2f} / {np.rad2deg(test_error.item()):.2f})')\n",
        "else:\n",
        "  test_acc = evaluate_acc(model, device, test_loader)\n",
        "  print(f'Test acc: {test_acc.item()}')"
      ]
    },
    {
      "cell_type": "code",
      "execution_count": null,
      "metadata": {},
      "outputs": [],
      "source": [
        "# Save current model\n",
        "s = datetime.fromtimestamp(time.time()).strftime('%m-%d_%H:%M:%S')\n",
        "PATH = f'models/saved_models/{s}.pt'\n",
        "torch.save(model.state_dict(), PATH)"
      ]
    }
  ],
  "metadata": {
    "kernelspec": {
      "display_name": ".venv",
      "language": "python",
      "name": "python3"
    },
    "language_info": {
      "codemirror_mode": {
        "name": "ipython",
        "version": 3
      },
      "file_extension": ".py",
      "mimetype": "text/x-python",
      "name": "python",
      "nbconvert_exporter": "python",
      "pygments_lexer": "ipython3",
      "version": "3.12.3"
    }
  },
  "nbformat": 4,
  "nbformat_minor": 2
}
