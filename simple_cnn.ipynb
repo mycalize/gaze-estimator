{
  "cells": [
    {
      "cell_type": "markdown",
      "metadata": {},
      "source": [
        "# Training a Simple CNN"
      ]
    },
    {
      "cell_type": "code",
      "execution_count": 1,
      "metadata": {},
      "outputs": [],
      "source": [
        "import numpy as np\n",
        "import torch\n",
        "import torch.nn as nn\n",
        "import torch.optim as optim\n",
        "from torch.utils.data import DataLoader\n",
        "from data.image_dataset import ImageDataset\n",
        "from models.cnn import CNN\n",
        "from models.nvgaze import NVGaze\n",
        "from training.train import *\n",
        "from training.eval import *\n",
        "from data.convert_labels import *\n",
        "import matplotlib.pyplot as plt\n",
        "\n",
        "# for auto-reloading external modules\n",
        "# see http://stackoverflow.com/questions/1907993/autoreload-of-modules-in-ipython\n",
        "%load_ext autoreload\n",
        "%autoreload 2"
      ]
    },
    {
      "cell_type": "code",
      "execution_count": 2,
      "metadata": {},
      "outputs": [],
      "source": [
        "data_subset = '01_20_160_120'\n",
        "\n",
        "train_dir_path = f'data/real/{data_subset}/train'\n",
        "train_annotations_file_path = f'{train_dir_path}/{data_subset}_train.csv'\n",
        "val_dir_path = f'data/real/{data_subset}/val'\n",
        "val_annotations_file_path = f'{val_dir_path}/{data_subset}_val.csv'\n",
        "test_dir_path = f'data/real/{data_subset}/test'\n",
        "test_annotations_file_path = f'{test_dir_path}/{data_subset}_test.csv'\n",
        "\n",
        "# Can override arguments specifying class boundaries\n",
        "# target_transform = lambda target: convert_labels(target)\n",
        "target_transform = lambda target: torch.tensor(target).to(torch.float32)\n",
        "\n",
        "train_dataset = ImageDataset(\n",
        "  annotations_file=train_annotations_file_path,\n",
        "  img_dir=train_dir_path,\n",
        "  transform=None,\n",
        "  target_transform=target_transform\n",
        ")\n",
        "val_dataset = ImageDataset(\n",
        "  annotations_file=val_annotations_file_path,\n",
        "  img_dir=val_dir_path,\n",
        "  transform=None,\n",
        "  target_transform=target_transform\n",
        ")\n",
        "test_dataset = ImageDataset(\n",
        "  annotations_file=test_annotations_file_path,\n",
        "  img_dir=test_dir_path,\n",
        "  transform=None,\n",
        "  target_transform=target_transform\n",
        ")"
      ]
    },
    {
      "cell_type": "code",
      "execution_count": 3,
      "metadata": {},
      "outputs": [
        {
          "name": "stdout",
          "output_type": "stream",
          "text": [
            "Feature batch shape: torch.Size([64, 1, 120, 160])\n",
            "Labels batch shape: torch.Size([64, 2])\n"
          ]
        }
      ],
      "source": [
        "# Create Dataloader\n",
        "train_loader = DataLoader(train_dataset, batch_size=64, shuffle=True)\n",
        "val_loader = DataLoader(val_dataset, batch_size=64, shuffle=True)\n",
        "test_loader = DataLoader(test_dataset, batch_size=64, shuffle=True)\n",
        "\n",
        "train_features, train_labels = next(iter(train_loader))\n",
        "print(f\"Feature batch shape: {train_features.size()}\")\n",
        "print(f\"Labels batch shape: {train_labels.size()}\")"
      ]
    },
    {
      "cell_type": "code",
      "execution_count": 4,
      "metadata": {},
      "outputs": [
        {
          "name": "stdout",
          "output_type": "stream",
          "text": [
            "torch.Size([1, 40, 4, 2])\n",
            "Using device: mps\n"
          ]
        }
      ],
      "source": [
        "# model = CNN(input_dims=(160, 120))\n",
        "model = NVGaze(input_dims=(160, 120), out_features=2)\n",
        "# criterion = nn.CrossEntropyLoss()\n",
        "criterion = nn.MSELoss()\n",
        "optimizer = optim.Adam(model.parameters(), lr=1e-4)\n",
        "\n",
        "# Set-up GPU device (if available) and move model\n",
        "device = torch.device('mps' if torch.mps.is_available() else 'cpu')\n",
        "model = model.to(device)\n",
        "print(f'Using device: {device}')\n",
        "\n",
        "results = train(model, criterion, optimizer, device, train_loader, val_loader, epochs=200)"
      ]
    },
    {
      "cell_type": "code",
      "execution_count": 15,
      "metadata": {},
      "outputs": [
        {
          "data": {
            "text/plain": [
              "(0.0, 0.2)"
            ]
          },
          "execution_count": 15,
          "metadata": {},
          "output_type": "execute_result"
        },
        {
          "data": {
            "image/png": "[encoded data removed]",
            "text/plain": [
              "<Figure size 640x480 with 1 Axes>"
            ]
          },
          "metadata": {},
          "output_type": "display_data"
        }
      ],
      "source": [
        "# loss_history, train_acc_history, val_acc_history = results\n",
        "loss_history = results\n",
        "plt.subplot(2, 1, 1)\n",
        "plt.plot(loss_history, 'o')\n",
        "plt.xlabel('Iteration')\n",
        "plt.ylabel('Loss')\n",
        "plt.ylim(0,0.2)\n",
        "\n",
        "# plt.subplot(2, 1, 2)\n",
        "# plt.plot(train_acc_history, '-o')\n",
        "# plt.plot(val_acc_history, '-o')\n",
        "# plt.legend(['Train', 'Val'], loc='upper left')\n",
        "# plt.xlabel('Epoch')\n",
        "# plt.ylabel('Accuracy')\n",
        "# plt.show()"
      ]
    },
    {
      "cell_type": "code",
      "execution_count": 18,
      "metadata": {},
      "outputs": [
        {
          "name": "stdout",
          "output_type": "stream",
          "text": [
            "0.054874204099178314\n",
            "0.04545509070158005\n",
            "0.07001800835132599\n",
            "tensor(0.2850, grad_fn=<DivBackward0>)\n"
          ]
        }
      ],
      "source": [
        "# test_acc = evaluate_acc(model, device, test_loader)\n",
        "# print(test_acc)\n",
        "\n",
        "test_error = evaluate_error(model, device, test_loader)\n",
        "print(test_error)"
      ]
    },
    {
      "cell_type": "code",
      "execution_count": null,
      "metadata": {},
      "outputs": [],
      "source": []
    }
  ],
  "metadata": {
    "kernelspec": {
      "display_name": ".venv",
      "language": "python",
      "name": "python3"
    },
    "language_info": {
      "codemirror_mode": {
        "name": "ipython",
        "version": 3
      },
      "file_extension": ".py",
      "mimetype": "text/x-python",
      "name": "python",
      "nbconvert_exporter": "python",
      "pygments_lexer": "ipython3",
      "version": "3.13.2"
    }
  },
  "nbformat": 4,
  "nbformat_minor": 2
}
