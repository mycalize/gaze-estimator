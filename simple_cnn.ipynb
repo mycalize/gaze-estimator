{
  "cells": [
    {
      "cell_type": "markdown",
      "metadata": {},
      "source": [
        "# Training a Simple CNN"
      ]
    },
    {
      "cell_type": "code",
      "execution_count": 21,
      "metadata": {},
      "outputs": [
        {
          "name": "stdout",
          "output_type": "stream",
          "text": [
            "The autoreload extension is already loaded. To reload it, use:\n",
            "  %reload_ext autoreload\n"
          ]
        }
      ],
      "source": [
        "import torch.nn as nn\n",
        "import torch.optim as optim\n",
        "from torch.utils.data import DataLoader\n",
        "from data.image_dataset import ImageDataset\n",
        "from training.cnn import ConvNet\n",
        "from training.train import *\n",
        "from training.eval import *\n",
        "from data.convert_labels import *\n",
        "\n",
        "# for auto-reloading external modules\n",
        "# see http://stackoverflow.com/questions/1907993/autoreload-of-modules-in-ipython\n",
        "%load_ext autoreload\n",
        "%autoreload 2"
      ]
    },
    {
      "cell_type": "code",
      "execution_count": 22,
      "metadata": {},
      "outputs": [],
      "source": [
        "# Create ImageDataset\n",
        "annotations_file_path = 'data/real/01_20_160_120/01_20_160_120.csv'\n",
        "img_dir_path = 'data/real/01_20_160_120'\n",
        "\n",
        "# Can override arguments specifying class boundaries\n",
        "target_transform = lambda target: convert_labels(target)\n",
        "\n",
        "train_data = ImageDataset(\n",
        "  annotations_file=annotations_file_path,\n",
        "  img_dir=img_dir_path,\n",
        "  transform=None,\n",
        "  target_transform=target_transform\n",
        ")"
      ]
    },
    {
      "cell_type": "code",
      "execution_count": 23,
      "metadata": {},
      "outputs": [
        {
          "name": "stdout",
          "output_type": "stream",
          "text": [
            "Feature batch shape: torch.Size([64, 1, 120, 160])\n",
            "Labels batch shape: torch.Size([64])\n",
            "tensor([ 1,  5,  0,  8, 10,  7,  3,  6,  5, 14,  0,  3,  5,  9, 13, 11,  3, 14,\n",
            "        10, 15,  1,  6,  6,  6,  2,  0,  1, 10, 10,  8,  6, 15, 10, 14, 13,  1,\n",
            "         1, 11, 10, 11,  1,  8, 10,  5, 11, 13, 15,  6, 11,  5,  7,  8,  8, 13,\n",
            "        10, 15,  3, 15, 14,  6,  8, 11,  0,  1])\n"
          ]
        }
      ],
      "source": [
        "# Create Dataloader\n",
        "train_loader = DataLoader(train_data, batch_size=64, shuffle=True)\n",
        "\n",
        "train_features, train_labels = next(iter(train_loader))\n",
        "print(f\"Feature batch shape: {train_features.size()}\")\n",
        "print(f\"Labels batch shape: {train_labels.size()}\")\n",
        "print(train_labels)"
      ]
    },
    {
      "cell_type": "code",
      "execution_count": 24,
      "metadata": {},
      "outputs": [
        {
          "name": "stdout",
          "output_type": "stream",
          "text": [
            "| epoch  1 | train loss 2.074553 | train acc 0.283654 |\n",
            "| epoch  2 | train loss 2.730901 | train acc 0.233516 |\n",
            "| epoch  3 | train loss 0.698941 | train acc 0.791896 |\n",
            "| epoch  4 | train loss 1.050838 | train acc 0.694368 |\n",
            "| epoch  5 | train loss 0.084271 | train acc 0.971154 |\n",
            "| epoch  6 | train loss 0.004168 | train acc 0.998626 |\n",
            "| epoch  7 | train loss 0.001640 | train acc 1.000000 |\n",
            "| epoch  8 | train loss 0.000591 | train acc 1.000000 |\n",
            "| epoch  9 | train loss 0.000410 | train acc 1.000000 |\n",
            "| epoch 10 | train loss 0.000339 | train acc 1.000000 |\n"
          ]
        }
      ],
      "source": [
        "model = ConvNet()\n",
        "criterion = nn.CrossEntropyLoss()\n",
        "optimizer = optim.Adam(model.parameters(), lr=0.0005)\n",
        "\n",
        "results = train(model, criterion, optimizer, train_loader, epochs=10)"
      ]
    }
  ],
  "metadata": {
    "kernelspec": {
      "display_name": ".venv",
      "language": "python",
      "name": "python3"
    },
    "language_info": {
      "codemirror_mode": {
        "name": "ipython",
        "version": 3
      },
      "file_extension": ".py",
      "mimetype": "text/x-python",
      "name": "python",
      "nbconvert_exporter": "python",
      "pygments_lexer": "ipython3",
      "version": "3.13.2"
    }
  },
  "nbformat": 4,
  "nbformat_minor": 2
}
