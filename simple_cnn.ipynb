{
  "cells": [
    {
      "cell_type": "markdown",
      "metadata": {},
      "source": [
        "# Training a Simple CNN"
      ]
    },
    {
      "cell_type": "code",
      "execution_count": null,
      "metadata": {},
      "outputs": [],
      "source": [
        "import numpy as np\n",
        "import torch\n",
        "import torch.nn as nn\n",
        "import torch.optim as optim\n",
        "from torch.utils.data import DataLoader, random_split\n",
        "from data.image_dataset import ImageDataset\n",
        "from models.cnn import CNN\n",
        "from models.nvgaze import NVGaze\n",
        "from training.train import *\n",
        "from training.eval import *\n",
        "from data.convert_labels import *\n",
        "import matplotlib.pyplot as plt\n",
        "\n",
        "# for auto-reloading external modules\n",
        "# see http://stackoverflow.com/questions/1907993/autoreload-of-modules-in-ipython\n",
        "%load_ext autoreload\n",
        "%autoreload 2"
      ]
    },
    {
      "cell_type": "code",
      "execution_count": null,
      "metadata": {},
      "outputs": [],
      "source": [
        "train_dir_path = 'data/real/01_20_160_120/train'\n",
        "train_annotations_file_path = f'{train_dir_path}/01_20_160_120_train.csv'\n",
        "test_dir_path = 'data/real/01_20_160_120/test'\n",
        "test_annotations_file_path = f'{test_dir_path}/01_20_160_120_test.csv'\n",
        "\n",
        "# Can override arguments specifying class boundaries\n",
        "target_transform = lambda target: convert_labels(target)\n",
        "\n",
        "train_val_dataset = ImageDataset(\n",
        "  annotations_file=train_annotations_file_path,\n",
        "  img_dir=train_dir_path,\n",
        "  transform=None,\n",
        "  target_transform=target_transform\n",
        ")\n",
        "test_dataset = ImageDataset(\n",
        "  annotations_file=test_annotations_file_path,\n",
        "  img_dir=test_dir_path,\n",
        "  transform=None,\n",
        "  target_transform=target_transform\n",
        ")\n",
        "\n",
        "generator = torch.Generator().manual_seed(0)\n",
        "train_dataset, val_dataset = random_split(train_val_dataset, [0.9, 0.1], generator=generator)"
      ]
    },
    {
      "cell_type": "code",
      "execution_count": null,
      "metadata": {},
      "outputs": [],
      "source": [
        "# Create Dataloader\n",
        "train_loader = DataLoader(train_dataset, batch_size=64, shuffle=True)\n",
        "val_loader = DataLoader(val_dataset, batch_size=64, shuffle=True)\n",
        "test_loader = DataLoader(test_dataset, batch_size=64, shuffle=True)\n",
        "\n",
        "# train_features, train_labels = next(iter(train_loader))\n",
        "# print(f\"Feature batch shape: {train_features.size()}\")\n",
        "# print(f\"Labels batch shape: {train_labels.size()}\")\n",
        "# print(np.unique(train_labels))"
      ]
    },
    {
      "cell_type": "code",
      "execution_count": null,
      "metadata": {},
      "outputs": [],
      "source": [
        "# model = CNN(input_dims=(160, 120))\n",
        "model = NVGaze(input_dims=(160, 120))\n",
        "criterion = nn.CrossEntropyLoss()\n",
        "optimizer = optim.Adam(model.parameters(), lr=1e-4)\n",
        "\n",
        "results = train(model, criterion, optimizer, train_loader, val_loader, epochs=30)"
      ]
    },
    {
      "cell_type": "code",
      "execution_count": null,
      "metadata": {},
      "outputs": [],
      "source": [
        "loss_history, train_acc_history, val_acc_history = results\n",
        "plt.subplot(2, 1, 1)\n",
        "plt.plot(loss_history, 'o')\n",
        "plt.xlabel('Iteration')\n",
        "plt.ylabel('Loss')\n",
        "\n",
        "plt.subplot(2, 1, 2)\n",
        "plt.plot(train_acc_history, '-o')\n",
        "plt.plot(val_acc_history, '-o')\n",
        "plt.legend(['train', 'val'], loc='upper left')\n",
        "plt.xlabel('Epoch')\n",
        "plt.ylabel('Accuracy')\n",
        "plt.show()"
      ]
    },
    {
      "cell_type": "code",
      "execution_count": null,
      "metadata": {},
      "outputs": [],
      "source": [
        "test_acc = evaluate_acc(model, test_loader)\n",
        "print(test_acc)"
      ]
    }
  ],
  "metadata": {
    "kernelspec": {
      "display_name": ".venv",
      "language": "python",
      "name": "python3"
    },
    "language_info": {
      "codemirror_mode": {
        "name": "ipython",
        "version": 3
      },
      "file_extension": ".py",
      "mimetype": "text/x-python",
      "name": "python",
      "nbconvert_exporter": "python",
      "pygments_lexer": "ipython3",
      "version": "3.13.2"
    }
  },
  "nbformat": 4,
  "nbformat_minor": 2
}
