{
  "cells": [
    {
      "cell_type": "markdown",
      "metadata": {},
      "source": [
        "# Training a Simple CNN"
      ]
    },
    {
      "cell_type": "code",
      "execution_count": null,
      "metadata": {},
      "outputs": [],
      "source": [
        "import numpy as np\n",
        "import torch.nn as nn\n",
        "import torch.optim as optim\n",
        "from torch.utils.data import DataLoader\n",
        "from data.load_data import *\n",
        "from training.cnn import ConvNet\n",
        "from training.train import *\n",
        "from training.eval import *\n",
        "from data.convert_labels import *\n",
        "import matplotlib.pyplot as plt\n",
        "\n",
        "# for auto-reloading external modules\n",
        "# see http://stackoverflow.com/questions/1907993/autoreload-of-modules-in-ipython\n",
        "%load_ext autoreload\n",
        "%autoreload 2"
      ]
    },
    {
      "cell_type": "code",
      "execution_count": null,
      "metadata": {},
      "outputs": [],
      "source": [
        "# Create ImageDataset for training\n",
        "train_annotations_file_path = 'data/real/01_20_160_120/train/01_20_160_120_train.csv'\n",
        "train_img_dir_path = 'data/real/01_20_160_120/train'\n",
        "test_annotations_file_path = 'data/real/01_20_160_120/test/01_20_160_120_test.csv'\n",
        "test_img_dir_path = 'data/real/01_20_160_120/test'\n",
        "\n",
        "# Can override arguments specifying class boundaries\n",
        "target_transform = lambda target: convert_labels(target)\n",
        "\n",
        "train_loader = load_data(train_annotations_file_path, train_img_dir_path, target_transform)\n",
        "test_loader = load_data(test_annotations_file_path, test_img_dir_path, target_transform)\n",
        "\n",
        "train_features, train_labels = next(iter(train_loader))\n",
        "print(f\"Feature batch shape: {train_features.size()}\")\n",
        "print(f\"Labels batch shape: {train_labels.size()}\")\n",
        "print(np.unique(train_labels))"
      ]
    },
    {
      "cell_type": "code",
      "execution_count": null,
      "metadata": {},
      "outputs": [],
      "source": [
        "model = ConvNet(input_dims=(160, 120))\n",
        "criterion = nn.CrossEntropyLoss()\n",
        "optimizer = optim.Adam(model.parameters(), lr=1e-4)\n",
        "\n",
        "results = train(model, criterion, optimizer, train_loader, epochs=10)"
      ]
    },
    {
      "cell_type": "code",
      "execution_count": null,
      "metadata": {},
      "outputs": [],
      "source": [
        "iter_train_loss_list, train_acc_list = results\n",
        "plt.plot(iter_train_loss_list)\n",
        "plt.xlabel('Iteration number')\n",
        "plt.ylabel('Loss value')\n",
        "plt.title('Loss history')\n",
        "plt.show()\n",
        "\n",
        "plt.plot(train_acc_list)\n",
        "plt.xlabel('Epoch number')\n",
        "plt.ylabel('Accuracy')\n",
        "plt.title('Training Accuracy')\n",
        "plt.show()"
      ]
    },
    {
      "cell_type": "code",
      "execution_count": null,
      "metadata": {},
      "outputs": [],
      "source": [
        "test_acc = evaluate_acc(model, test_loader)\n",
        "print(test_acc)"
      ]
    }
  ],
  "metadata": {
    "kernelspec": {
      "display_name": ".venv",
      "language": "python",
      "name": "python3"
    },
    "language_info": {
      "codemirror_mode": {
        "name": "ipython",
        "version": 3
      },
      "file_extension": ".py",
      "mimetype": "text/x-python",
      "name": "python",
      "nbconvert_exporter": "python",
      "pygments_lexer": "ipython3",
      "version": "3.13.2"
    }
  },
  "nbformat": 4,
  "nbformat_minor": 2
}
